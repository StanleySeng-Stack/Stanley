{
 "cells": [
  {
   "cell_type": "code",
   "execution_count": 31,
   "metadata": {
    "executionInfo": {
     "elapsed": 287,
     "status": "ok",
     "timestamp": 1736069743705,
     "user": {
      "displayName": "Yu Jun Kee",
      "userId": "17860971816141994389"
     },
     "user_tz": -480
    },
    "id": "Ustgz_iYbtAT"
   },
   "outputs": [],
   "source": [
    "import pandas as pd\n",
    "from sklearn.linear_model import Ridge\n",
    "from sklearn.model_selection import train_test_split as split\n",
    "from sklearn.preprocessing import OneHotEncoder\n",
    "from sklearn.preprocessing import MinMaxScaler, StandardScaler, RobustScaler\n",
    "from sklearn.cluster import KMeans\n",
    "from sklearn.metrics import silhouette_score\n",
    "from sklearn.metrics import mean_squared_error, r2_score\n",
    "from sklearn.model_selection import KFold, cross_val_score\n",
    "from sklearn.linear_model import LogisticRegression\n",
    "from sklearn.svm import SVR\n",
    "from sklearn.tree import DecisionTreeRegressor\n",
    "from sklearn.ensemble import RandomForestRegressor, GradientBoostingRegressor\n",
    "from sklearn.neural_network import MLPRegressor\n",
    "from sklearn.linear_model import LinearRegression\n",
    "from sklearn.neighbors import KNeighborsRegressor\n",
    "import matplotlib.pyplot as plt\n",
    "from sklearn.decomposition import PCA\n",
    "from sklearn.pipeline import Pipeline"
   ]
  },
  {
   "cell_type": "code",
   "execution_count": 43,
   "metadata": {
    "colab": {
     "base_uri": "https://localhost:8080/",
     "height": 342
    },
    "executionInfo": {
     "elapsed": 281,
     "status": "ok",
     "timestamp": 1736071077689,
     "user": {
      "displayName": "Yu Jun Kee",
      "userId": "17860971816141994389"
     },
     "user_tz": -480
    },
    "id": "8cBg2IS1p1Qu",
    "outputId": "e5bfee67-1f9d-4311-e2d1-8a6fe1efc14f"
   },
   "outputs": [
    {
     "data": {
      "application/vnd.google.colaboratory.intrinsic+json": {
       "type": "dataframe",
       "variable_name": "df"
      },
      "text/html": [
       "\n",
       "  <div id=\"df-7a15e2ab-d834-4a03-8aa0-25acb6579efe\" class=\"colab-df-container\">\n",
       "    <div>\n",
       "<style scoped>\n",
       "    .dataframe tbody tr th:only-of-type {\n",
       "        vertical-align: middle;\n",
       "    }\n",
       "\n",
       "    .dataframe tbody tr th {\n",
       "        vertical-align: top;\n",
       "    }\n",
       "\n",
       "    .dataframe thead th {\n",
       "        text-align: right;\n",
       "    }\n",
       "</style>\n",
       "<table border=\"1\" class=\"dataframe\">\n",
       "  <thead>\n",
       "    <tr style=\"text-align: right;\">\n",
       "      <th></th>\n",
       "      <th>country</th>\n",
       "      <th>year</th>\n",
       "      <th>iso_code</th>\n",
       "      <th>population</th>\n",
       "      <th>gdp</th>\n",
       "      <th>biofuel_cons_change_pct</th>\n",
       "      <th>biofuel_cons_change_twh</th>\n",
       "      <th>biofuel_cons_per_capita</th>\n",
       "      <th>biofuel_consumption</th>\n",
       "      <th>biofuel_elec_per_capita</th>\n",
       "      <th>...</th>\n",
       "      <th>solar_share_elec</th>\n",
       "      <th>solar_share_energy</th>\n",
       "      <th>wind_cons_change_pct</th>\n",
       "      <th>wind_cons_change_twh</th>\n",
       "      <th>wind_consumption</th>\n",
       "      <th>wind_elec_per_capita</th>\n",
       "      <th>wind_electricity</th>\n",
       "      <th>wind_energy_per_capita</th>\n",
       "      <th>wind_share_elec</th>\n",
       "      <th>wind_share_energy</th>\n",
       "    </tr>\n",
       "  </thead>\n",
       "  <tbody>\n",
       "    <tr>\n",
       "      <th>0</th>\n",
       "      <td>ASEAN (Ember)</td>\n",
       "      <td>2000</td>\n",
       "      <td>NaN</td>\n",
       "      <td>NaN</td>\n",
       "      <td>NaN</td>\n",
       "      <td>NaN</td>\n",
       "      <td>NaN</td>\n",
       "      <td>NaN</td>\n",
       "      <td>NaN</td>\n",
       "      <td>NaN</td>\n",
       "      <td>...</td>\n",
       "      <td>0.0</td>\n",
       "      <td>NaN</td>\n",
       "      <td>NaN</td>\n",
       "      <td>NaN</td>\n",
       "      <td>NaN</td>\n",
       "      <td>NaN</td>\n",
       "      <td>0.0</td>\n",
       "      <td>NaN</td>\n",
       "      <td>0.0</td>\n",
       "      <td>NaN</td>\n",
       "    </tr>\n",
       "    <tr>\n",
       "      <th>1</th>\n",
       "      <td>ASEAN (Ember)</td>\n",
       "      <td>2001</td>\n",
       "      <td>NaN</td>\n",
       "      <td>NaN</td>\n",
       "      <td>NaN</td>\n",
       "      <td>NaN</td>\n",
       "      <td>NaN</td>\n",
       "      <td>NaN</td>\n",
       "      <td>NaN</td>\n",
       "      <td>NaN</td>\n",
       "      <td>...</td>\n",
       "      <td>0.0</td>\n",
       "      <td>NaN</td>\n",
       "      <td>NaN</td>\n",
       "      <td>NaN</td>\n",
       "      <td>NaN</td>\n",
       "      <td>NaN</td>\n",
       "      <td>0.0</td>\n",
       "      <td>NaN</td>\n",
       "      <td>0.0</td>\n",
       "      <td>NaN</td>\n",
       "    </tr>\n",
       "    <tr>\n",
       "      <th>2</th>\n",
       "      <td>ASEAN (Ember)</td>\n",
       "      <td>2002</td>\n",
       "      <td>NaN</td>\n",
       "      <td>NaN</td>\n",
       "      <td>NaN</td>\n",
       "      <td>NaN</td>\n",
       "      <td>NaN</td>\n",
       "      <td>NaN</td>\n",
       "      <td>NaN</td>\n",
       "      <td>NaN</td>\n",
       "      <td>...</td>\n",
       "      <td>0.0</td>\n",
       "      <td>NaN</td>\n",
       "      <td>NaN</td>\n",
       "      <td>NaN</td>\n",
       "      <td>NaN</td>\n",
       "      <td>NaN</td>\n",
       "      <td>0.0</td>\n",
       "      <td>NaN</td>\n",
       "      <td>0.0</td>\n",
       "      <td>NaN</td>\n",
       "    </tr>\n",
       "    <tr>\n",
       "      <th>3</th>\n",
       "      <td>ASEAN (Ember)</td>\n",
       "      <td>2003</td>\n",
       "      <td>NaN</td>\n",
       "      <td>NaN</td>\n",
       "      <td>NaN</td>\n",
       "      <td>NaN</td>\n",
       "      <td>NaN</td>\n",
       "      <td>NaN</td>\n",
       "      <td>NaN</td>\n",
       "      <td>NaN</td>\n",
       "      <td>...</td>\n",
       "      <td>0.0</td>\n",
       "      <td>NaN</td>\n",
       "      <td>NaN</td>\n",
       "      <td>NaN</td>\n",
       "      <td>NaN</td>\n",
       "      <td>NaN</td>\n",
       "      <td>0.0</td>\n",
       "      <td>NaN</td>\n",
       "      <td>0.0</td>\n",
       "      <td>NaN</td>\n",
       "    </tr>\n",
       "    <tr>\n",
       "      <th>4</th>\n",
       "      <td>ASEAN (Ember)</td>\n",
       "      <td>2004</td>\n",
       "      <td>NaN</td>\n",
       "      <td>NaN</td>\n",
       "      <td>NaN</td>\n",
       "      <td>NaN</td>\n",
       "      <td>NaN</td>\n",
       "      <td>NaN</td>\n",
       "      <td>NaN</td>\n",
       "      <td>NaN</td>\n",
       "      <td>...</td>\n",
       "      <td>0.0</td>\n",
       "      <td>NaN</td>\n",
       "      <td>NaN</td>\n",
       "      <td>NaN</td>\n",
       "      <td>NaN</td>\n",
       "      <td>NaN</td>\n",
       "      <td>0.0</td>\n",
       "      <td>NaN</td>\n",
       "      <td>0.0</td>\n",
       "      <td>NaN</td>\n",
       "    </tr>\n",
       "  </tbody>\n",
       "</table>\n",
       "<p>5 rows × 129 columns</p>\n",
       "</div>\n",
       "    <div class=\"colab-df-buttons\">\n",
       "\n",
       "  <div class=\"colab-df-container\">\n",
       "    <button class=\"colab-df-convert\" onclick=\"convertToInteractive('df-7a15e2ab-d834-4a03-8aa0-25acb6579efe')\"\n",
       "            title=\"Convert this dataframe to an interactive table.\"\n",
       "            style=\"display:none;\">\n",
       "\n",
       "  <svg xmlns=\"http://www.w3.org/2000/svg\" height=\"24px\" viewBox=\"0 -960 960 960\">\n",
       "    <path d=\"M120-120v-720h720v720H120Zm60-500h600v-160H180v160Zm220 220h160v-160H400v160Zm0 220h160v-160H400v160ZM180-400h160v-160H180v160Zm440 0h160v-160H620v160ZM180-180h160v-160H180v160Zm440 0h160v-160H620v160Z\"/>\n",
       "  </svg>\n",
       "    </button>\n",
       "\n",
       "  <style>\n",
       "    .colab-df-container {\n",
       "      display:flex;\n",
       "      gap: 12px;\n",
       "    }\n",
       "\n",
       "    .colab-df-convert {\n",
       "      background-color: #E8F0FE;\n",
       "      border: none;\n",
       "      border-radius: 50%;\n",
       "      cursor: pointer;\n",
       "      display: none;\n",
       "      fill: #1967D2;\n",
       "      height: 32px;\n",
       "      padding: 0 0 0 0;\n",
       "      width: 32px;\n",
       "    }\n",
       "\n",
       "    .colab-df-convert:hover {\n",
       "      background-color: #E2EBFA;\n",
       "      box-shadow: 0px 1px 2px rgba(60, 64, 67, 0.3), 0px 1px 3px 1px rgba(60, 64, 67, 0.15);\n",
       "      fill: #174EA6;\n",
       "    }\n",
       "\n",
       "    .colab-df-buttons div {\n",
       "      margin-bottom: 4px;\n",
       "    }\n",
       "\n",
       "    [theme=dark] .colab-df-convert {\n",
       "      background-color: #3B4455;\n",
       "      fill: #D2E3FC;\n",
       "    }\n",
       "\n",
       "    [theme=dark] .colab-df-convert:hover {\n",
       "      background-color: #434B5C;\n",
       "      box-shadow: 0px 1px 3px 1px rgba(0, 0, 0, 0.15);\n",
       "      filter: drop-shadow(0px 1px 2px rgba(0, 0, 0, 0.3));\n",
       "      fill: #FFFFFF;\n",
       "    }\n",
       "  </style>\n",
       "\n",
       "    <script>\n",
       "      const buttonEl =\n",
       "        document.querySelector('#df-7a15e2ab-d834-4a03-8aa0-25acb6579efe button.colab-df-convert');\n",
       "      buttonEl.style.display =\n",
       "        google.colab.kernel.accessAllowed ? 'block' : 'none';\n",
       "\n",
       "      async function convertToInteractive(key) {\n",
       "        const element = document.querySelector('#df-7a15e2ab-d834-4a03-8aa0-25acb6579efe');\n",
       "        const dataTable =\n",
       "          await google.colab.kernel.invokeFunction('convertToInteractive',\n",
       "                                                    [key], {});\n",
       "        if (!dataTable) return;\n",
       "\n",
       "        const docLinkHtml = 'Like what you see? Visit the ' +\n",
       "          '<a target=\"_blank\" href=https://colab.research.google.com/notebooks/data_table.ipynb>data table notebook</a>'\n",
       "          + ' to learn more about interactive tables.';\n",
       "        element.innerHTML = '';\n",
       "        dataTable['output_type'] = 'display_data';\n",
       "        await google.colab.output.renderOutput(dataTable, element);\n",
       "        const docLink = document.createElement('div');\n",
       "        docLink.innerHTML = docLinkHtml;\n",
       "        element.appendChild(docLink);\n",
       "      }\n",
       "    </script>\n",
       "  </div>\n",
       "\n",
       "\n",
       "<div id=\"df-a7376dc8-bcee-4bfb-9493-b751430e653c\">\n",
       "  <button class=\"colab-df-quickchart\" onclick=\"quickchart('df-a7376dc8-bcee-4bfb-9493-b751430e653c')\"\n",
       "            title=\"Suggest charts\"\n",
       "            style=\"display:none;\">\n",
       "\n",
       "<svg xmlns=\"http://www.w3.org/2000/svg\" height=\"24px\"viewBox=\"0 0 24 24\"\n",
       "     width=\"24px\">\n",
       "    <g>\n",
       "        <path d=\"M19 3H5c-1.1 0-2 .9-2 2v14c0 1.1.9 2 2 2h14c1.1 0 2-.9 2-2V5c0-1.1-.9-2-2-2zM9 17H7v-7h2v7zm4 0h-2V7h2v10zm4 0h-2v-4h2v4z\"/>\n",
       "    </g>\n",
       "</svg>\n",
       "  </button>\n",
       "\n",
       "<style>\n",
       "  .colab-df-quickchart {\n",
       "      --bg-color: #E8F0FE;\n",
       "      --fill-color: #1967D2;\n",
       "      --hover-bg-color: #E2EBFA;\n",
       "      --hover-fill-color: #174EA6;\n",
       "      --disabled-fill-color: #AAA;\n",
       "      --disabled-bg-color: #DDD;\n",
       "  }\n",
       "\n",
       "  [theme=dark] .colab-df-quickchart {\n",
       "      --bg-color: #3B4455;\n",
       "      --fill-color: #D2E3FC;\n",
       "      --hover-bg-color: #434B5C;\n",
       "      --hover-fill-color: #FFFFFF;\n",
       "      --disabled-bg-color: #3B4455;\n",
       "      --disabled-fill-color: #666;\n",
       "  }\n",
       "\n",
       "  .colab-df-quickchart {\n",
       "    background-color: var(--bg-color);\n",
       "    border: none;\n",
       "    border-radius: 50%;\n",
       "    cursor: pointer;\n",
       "    display: none;\n",
       "    fill: var(--fill-color);\n",
       "    height: 32px;\n",
       "    padding: 0;\n",
       "    width: 32px;\n",
       "  }\n",
       "\n",
       "  .colab-df-quickchart:hover {\n",
       "    background-color: var(--hover-bg-color);\n",
       "    box-shadow: 0 1px 2px rgba(60, 64, 67, 0.3), 0 1px 3px 1px rgba(60, 64, 67, 0.15);\n",
       "    fill: var(--button-hover-fill-color);\n",
       "  }\n",
       "\n",
       "  .colab-df-quickchart-complete:disabled,\n",
       "  .colab-df-quickchart-complete:disabled:hover {\n",
       "    background-color: var(--disabled-bg-color);\n",
       "    fill: var(--disabled-fill-color);\n",
       "    box-shadow: none;\n",
       "  }\n",
       "\n",
       "  .colab-df-spinner {\n",
       "    border: 2px solid var(--fill-color);\n",
       "    border-color: transparent;\n",
       "    border-bottom-color: var(--fill-color);\n",
       "    animation:\n",
       "      spin 1s steps(1) infinite;\n",
       "  }\n",
       "\n",
       "  @keyframes spin {\n",
       "    0% {\n",
       "      border-color: transparent;\n",
       "      border-bottom-color: var(--fill-color);\n",
       "      border-left-color: var(--fill-color);\n",
       "    }\n",
       "    20% {\n",
       "      border-color: transparent;\n",
       "      border-left-color: var(--fill-color);\n",
       "      border-top-color: var(--fill-color);\n",
       "    }\n",
       "    30% {\n",
       "      border-color: transparent;\n",
       "      border-left-color: var(--fill-color);\n",
       "      border-top-color: var(--fill-color);\n",
       "      border-right-color: var(--fill-color);\n",
       "    }\n",
       "    40% {\n",
       "      border-color: transparent;\n",
       "      border-right-color: var(--fill-color);\n",
       "      border-top-color: var(--fill-color);\n",
       "    }\n",
       "    60% {\n",
       "      border-color: transparent;\n",
       "      border-right-color: var(--fill-color);\n",
       "    }\n",
       "    80% {\n",
       "      border-color: transparent;\n",
       "      border-right-color: var(--fill-color);\n",
       "      border-bottom-color: var(--fill-color);\n",
       "    }\n",
       "    90% {\n",
       "      border-color: transparent;\n",
       "      border-bottom-color: var(--fill-color);\n",
       "    }\n",
       "  }\n",
       "</style>\n",
       "\n",
       "  <script>\n",
       "    async function quickchart(key) {\n",
       "      const quickchartButtonEl =\n",
       "        document.querySelector('#' + key + ' button');\n",
       "      quickchartButtonEl.disabled = true;  // To prevent multiple clicks.\n",
       "      quickchartButtonEl.classList.add('colab-df-spinner');\n",
       "      try {\n",
       "        const charts = await google.colab.kernel.invokeFunction(\n",
       "            'suggestCharts', [key], {});\n",
       "      } catch (error) {\n",
       "        console.error('Error during call to suggestCharts:', error);\n",
       "      }\n",
       "      quickchartButtonEl.classList.remove('colab-df-spinner');\n",
       "      quickchartButtonEl.classList.add('colab-df-quickchart-complete');\n",
       "    }\n",
       "    (() => {\n",
       "      let quickchartButtonEl =\n",
       "        document.querySelector('#df-a7376dc8-bcee-4bfb-9493-b751430e653c button');\n",
       "      quickchartButtonEl.style.display =\n",
       "        google.colab.kernel.accessAllowed ? 'block' : 'none';\n",
       "    })();\n",
       "  </script>\n",
       "</div>\n",
       "\n",
       "    </div>\n",
       "  </div>\n"
      ],
      "text/plain": [
       "         country  year iso_code  population  gdp  biofuel_cons_change_pct  \\\n",
       "0  ASEAN (Ember)  2000      NaN         NaN  NaN                      NaN   \n",
       "1  ASEAN (Ember)  2001      NaN         NaN  NaN                      NaN   \n",
       "2  ASEAN (Ember)  2002      NaN         NaN  NaN                      NaN   \n",
       "3  ASEAN (Ember)  2003      NaN         NaN  NaN                      NaN   \n",
       "4  ASEAN (Ember)  2004      NaN         NaN  NaN                      NaN   \n",
       "\n",
       "   biofuel_cons_change_twh  biofuel_cons_per_capita  biofuel_consumption  \\\n",
       "0                      NaN                      NaN                  NaN   \n",
       "1                      NaN                      NaN                  NaN   \n",
       "2                      NaN                      NaN                  NaN   \n",
       "3                      NaN                      NaN                  NaN   \n",
       "4                      NaN                      NaN                  NaN   \n",
       "\n",
       "   biofuel_elec_per_capita  ...  solar_share_elec  solar_share_energy  \\\n",
       "0                      NaN  ...               0.0                 NaN   \n",
       "1                      NaN  ...               0.0                 NaN   \n",
       "2                      NaN  ...               0.0                 NaN   \n",
       "3                      NaN  ...               0.0                 NaN   \n",
       "4                      NaN  ...               0.0                 NaN   \n",
       "\n",
       "   wind_cons_change_pct  wind_cons_change_twh  wind_consumption  \\\n",
       "0                   NaN                   NaN               NaN   \n",
       "1                   NaN                   NaN               NaN   \n",
       "2                   NaN                   NaN               NaN   \n",
       "3                   NaN                   NaN               NaN   \n",
       "4                   NaN                   NaN               NaN   \n",
       "\n",
       "   wind_elec_per_capita  wind_electricity  wind_energy_per_capita  \\\n",
       "0                   NaN               0.0                     NaN   \n",
       "1                   NaN               0.0                     NaN   \n",
       "2                   NaN               0.0                     NaN   \n",
       "3                   NaN               0.0                     NaN   \n",
       "4                   NaN               0.0                     NaN   \n",
       "\n",
       "   wind_share_elec  wind_share_energy  \n",
       "0              0.0                NaN  \n",
       "1              0.0                NaN  \n",
       "2              0.0                NaN  \n",
       "3              0.0                NaN  \n",
       "4              0.0                NaN  \n",
       "\n",
       "[5 rows x 129 columns]"
      ]
     },
     "execution_count": 43,
     "metadata": {},
     "output_type": "execute_result"
    }
   ],
   "source": [
    "df1 = pd.read_csv(r\"/content/Energy Data.csv\")\n",
    "df2 = pd.read_csv(r\"/content/cross-country-literacy-rates.csv\")\n",
    "\n",
    "# Standardize the country columns to ensure proper alignment\n",
    "df1['country'] = df1['country'].str.strip().str.lower()\n",
    "df2['Entity'] = df2['Entity'].str.strip().str.lower()\n",
    "\n",
    "# Merge the dataframes on standardized country columns and year\n",
    "C_df = pd.merge(df1, df2, left_on=[\"country\", \"year\"], right_on=[\"Entity\", \"Year\"], how=\"inner\")\n",
    "\n",
    "# Check the combined dataframe\n",
    "C_df.head()"
   ]
  },
  {
   "cell_type": "code",
   "execution_count": 44,
   "metadata": {
    "executionInfo": {
     "elapsed": 311,
     "status": "ok",
     "timestamp": 1736071144834,
     "user": {
      "displayName": "Yu Jun Kee",
      "userId": "17860971816141994389"
     },
     "user_tz": -480
    },
    "id": "bLQPfnQmtyXh"
   },
   "outputs": [],
   "source": [
    "# Replace NaN values with the mean for each column\n",
    "for col in C_df.columns:\n",
    "    if pd.api.types.is_numeric_dtype(C_df[col]):  # Check if the column is numeric\n",
    "       C_df[col] = C_df[col].fillna(C_df[col].mean())\n",
    "C_df.head()"
   ]
  },
  {
   "cell_type": "code",
   "execution_count": 45,
   "metadata": {
    "executionInfo": {
     "elapsed": 285,
     "status": "ok",
     "timestamp": 1736071159945,
     "user": {
      "displayName": "Yu Jun Kee",
      "userId": "17860971816141994389"
     },
     "user_tz": -480
    },
    "id": "K-iXJ41ft1O8"
   },
   "outputs": [],
   "source": [
    "C_df.isna().sum()"
   ]
  },
  {
   "cell_type": "code",
   "execution_count": 46,
   "metadata": {
    "executionInfo": {
     "elapsed": 3,
     "status": "ok",
     "timestamp": 1736071173195,
     "user": {
      "displayName": "Yu Jun Kee",
      "userId": "17860971816141994389"
     },
     "user_tz": -480
    },
    "id": "agsDoR7Dt34f"
   },
   "outputs": [],
   "source": [
    "C_df = C_C_df.drop_duplicates()\n",
    "C_df = C_df.dropna(axis=1, how='all') #Remove Columns with All Empty Data\n",
    "C_df = C_df.dropna(how='all') #Remove Rows with All Empty Data\n",
    "C_df = C_df.drop(columns=['iso_code'])\n",
    "C_df = C_df.drop(columns=['biofuel_cons_change_pct','biofuel_cons_change_twh','biofuel_share_elec','biofuel_share_energy','biofuel_elec_per_capita','biofuel_cons_per_capita'])\n",
    "C_df = C_df.drop(columns=['coal_cons_change_pct','coal_cons_change_twh','coal_cons_per_capita','coal_prod_change_pct','coal_prod_change_twh','coal_prod_per_capita','coal_elec_per_capita','coal_share_elec','coal_share_energy'])\n",
    "C_df = C_df.drop(columns=['electricity_demand','electricity_generation','electricity_share_energy'])\n",
    "C_df = C_df.drop(columns=['gas_cons_change_pct','gas_cons_change_twh','gas_prod_change_pct','gas_prod_change_twh','gas_share_elec','gas_share_energy','gas_elec_per_capita','gas_energy_per_capita','gas_prod_per_capita'])\n",
    "C_df = C_df.drop(columns=['hydro_cons_change_pct','hydro_cons_change_twh','hydro_elec_per_capita','hydro_energy_per_capita','hydro_share_elec','hydro_share_energy'])\n",
    "C_df = C_df.drop(columns=['nuclear_cons_change_pct','nuclear_cons_change_twh','nuclear_share_elec','nuclear_share_energy','nuclear_elec_per_capita','nuclear_energy_per_capita'])\n",
    "C_df = C_df.drop(columns=['oil_cons_change_pct','oil_cons_change_twh','oil_prod_change_pct','oil_prod_change_twh','oil_share_elec','oil_share_energy','oil_elec_per_capita','oil_energy_per_capita','oil_prod_per_capita'])\n",
    "C_df = C_df.drop(columns=['other_renewables_cons_change_pct','other_renewables_cons_change_twh','other_renewables_share_elec','other_renewables_share_energy','other_renewables_elec_per_capita_exc_biofuel','other_renewables_share_elec_exc_biofuel','other_renewables_elec_per_capita','other_renewables_energy_per_capita','other_renewable_exc_biofuel_electricity'])\n",
    "C_df = C_df.drop(columns=['renewables_cons_change_pct','renewables_cons_change_twh','renewables_share_elec','renewables_share_energy','renewables_elec_per_capita','renewables_energy_per_capita'])\n",
    "C_df = C_df.drop(columns=['solar_cons_change_pct','solar_cons_change_twh','solar_elec_per_capita','solar_share_elec','solar_share_energy','solar_energy_per_capita'])\n",
    "C_df = C_df.drop(columns=['wind_cons_change_pct','wind_cons_change_twh','wind_elec_per_capita','wind_share_elec','wind_energy_per_capita','wind_share_energy'])\n",
    "C_df = C_df.drop(columns=['fossil_share_energy','fossil_share_elec','fossil_cons_change_pct','fossil_cons_change_twh','fossil_elec_per_capita','fossil_energy_per_capita'])\n",
    "C_df = C_df.drop(columns=['energy_cons_change_pct','energy_cons_change_twh'])\n",
    "C_df = C_df.drop(columns=['low_carbon_cons_change_pct','low_carbon_cons_change_twh','low_carbon_share_elec','low_carbon_elec_per_capita','low_carbon_energy_per_capita','low_carbon_share_energy'])\n",
    "C_df = C_df.drop(columns=['net_elec_imports','net_elec_imports_share_demand'])\n",
    "C_df = C_df.drop(columns=['energy_per_capita','energy_per_gdp'])\n",
    "C_df = C_df.drop(columns=['per_capita_electricity'])\n",
    "C_df = C_df.drop(columns=['carbon_intensity_elec'])\n",
    "C_df = C_df.drop(columns=['greenhouse_gas_emissions'])\n",
    "C_df = C_df.drop(columns=['Code'])\n",
    "C_df = C_df[C_df['country'] != 'asean']\n",
    "C_df = C_df.drop(C_df.index[0:23])"
   ]
  },
  {
   "cell_type": "code",
   "execution_count": 47,
   "metadata": {
    "executionInfo": {
     "elapsed": 289,
     "status": "ok",
     "timestamp": 1736071183991,
     "user": {
      "displayName": "Yu Jun Kee",
      "userId": "17860971816141994389"
     },
     "user_tz": -480
    },
    "id": "n-Fz7ZB7t6MB"
   },
   "outputs": [],
   "source": [
    "C_df"
   ]
  },
  {
   "cell_type": "code",
   "execution_count": 49,
   "metadata": {
    "executionInfo": {
     "elapsed": 496,
     "status": "ok",
     "timestamp": 1736071239546,
     "user": {
      "displayName": "Yu Jun Kee",
      "userId": "17860971816141994389"
     },
     "user_tz": -480
    },
    "id": "PwW3Tl_S6DMe"
   },
   "outputs": [],
   "source": [
    "C_df.isna().sum()"
   ]
  },
  {
   "cell_type": "code",
   "execution_count": 50,
   "metadata": {
    "executionInfo": {
     "elapsed": 290,
     "status": "ok",
     "timestamp": 1736071253132,
     "user": {
      "displayName": "Yu Jun Kee",
      "userId": "17860971816141994389"
     },
     "user_tz": -480
    },
    "id": "ZQhOmAK_6OKI"
   },
   "outputs": [],
   "source": [
    "# Select only the columns related to consumption\n",
    "consumption_columns = ['fossil_fuel_consumption','other_renewable_consumption','renewables_consumption','solar_consumption','wind_consumption']\n",
    "\n",
    "\n",
    "# Group by 'Year' and sum all consumption-related columns\n",
    "yearly_consumption = C_df.groupby('year')[consumption_columns].sum()\n",
    "\n",
    "# Plot the data\n",
    "fig, ax = plt.subplots(figsize=(15, 9))\n",
    "fig.suptitle('Total Consumption by Year for All Types')\n",
    "\n",
    "# Plot each type of Consumption\n",
    "yearly_consumption.plot(ax=ax)\n",
    "\n",
    "# Set axis labels and legend\n",
    "ax.set_ylabel('Total Consumption')\n",
    "ax.set_xlabel('Year')\n",
    "ax.legend(title=\"Consumption Type\")\n",
    "\n",
    "# Show the plot\n",
    "plt.show()"
   ]
  },
  {
   "cell_type": "code",
   "execution_count": 52,
   "metadata": {
    "executionInfo": {
     "elapsed": 267,
     "status": "ok",
     "timestamp": 1736071290642,
     "user": {
      "displayName": "Yu Jun Kee",
      "userId": "17860971816141994389"
     },
     "user_tz": -480
    },
    "id": "MHbYtihu6RSa"
   },
   "outputs": [],
   "source": [
    "#Feature scaling for StandardScaler\n",
    "scaler = StandardScaler()\n",
    "X_train_scaled = scaler.fit_transform(X_train)\n",
    "X_test_scaled = scaler.transform(X_test)\n",
    "X.shape"
   ]
  },
  {
   "cell_type": "code",
   "execution_count": 53,
   "metadata": {
    "executionInfo": {
     "elapsed": 287,
     "status": "ok",
     "timestamp": 1736071302246,
     "user": {
      "displayName": "Yu Jun Kee",
      "userId": "17860971816141994389"
     },
     "user_tz": -480
    },
    "id": "4kjxLTUk6aZO"
   },
   "outputs": [],
   "source": [
    "# List of columns to group and take the mean\n",
    "columns_to_group = ['other_renewable_consumption', 'renewables_consumption', 'solar_consumption', 'wind_consumption']\n",
    "\n",
    "# Ensure that the columns are present in the DataFrame\n",
    "available_columns = [col for col in columns_to_group if col in C_df.columns]\n",
    "\n",
    "# Group by 'year' and compute the mean for the specified columns\n",
    "grouped_means = C_df.groupby('year')[available_columns].mean().reset_index()\n",
    "\n",
    "# Create a new feature 'clean_consumption' by summing the means of clean energy sources\n",
    "grouped_means['clean_consumption'] = grouped_means[available_columns].sum(axis=1)\n",
    "\n",
    "# Merge the 'clean_consumption' feature back into the original DataFrame\n",
    "C_df = pd.merge(C_df, grouped_means[['year', 'clean_consumption']], on='year', how='left')\n",
    "\n",
    "# Verify the new feature\n",
    "print(C_df[['year', 'clean_consumption']].head())"
   ]
  },
  {
   "cell_type": "code",
   "execution_count": 54,
   "metadata": {
    "executionInfo": {
     "elapsed": 313,
     "status": "ok",
     "timestamp": 1736071313661,
     "user": {
      "displayName": "Yu Jun Kee",
      "userId": "17860971816141994389"
     },
     "user_tz": -480
    },
    "id": "rz3ZnV206dNF"
   },
   "outputs": [],
   "source": [
    "# Define features (X) and target (y)\n",
    "X = C_df[['fossil_fuel_consumption']]\n",
    "y = C_df['clean_consumption']"
   ]
  },
  {
   "cell_type": "code",
   "execution_count": 55,
   "metadata": {
    "executionInfo": {
     "elapsed": 3,
     "status": "ok",
     "timestamp": 1736071323845,
     "user": {
      "displayName": "Yu Jun Kee",
      "userId": "17860971816141994389"
     },
     "user_tz": -480
    },
    "id": "_veUDoai6gH7"
   },
   "outputs": [],
   "source": [
    "# Split the data into training and testing sets\n",
    "X_train, X_test, y_train, y_test = split(X, y, test_size=0.2, random_state=42)"
   ]
  },
  {
   "cell_type": "code",
   "execution_count": 57,
   "metadata": {
    "executionInfo": {
     "elapsed": 285,
     "status": "ok",
     "timestamp": 1736071356777,
     "user": {
      "displayName": "Yu Jun Kee",
      "userId": "17860971816141994389"
     },
     "user_tz": -480
    },
    "id": "KsKGSize6iTH"
   },
   "outputs": [],
   "source": [
    "# One-hot encoding for categorical variables\n",
    "X = pd.get_dummies(X, columns=['fossil_fuel_consumption'], drop_first=True)"
   ]
  },
  {
   "cell_type": "code",
   "execution_count": 58,
   "metadata": {
    "executionInfo": {
     "elapsed": 271,
     "status": "ok",
     "timestamp": 1736071367886,
     "user": {
      "displayName": "Yu Jun Kee",
      "userId": "17860971816141994389"
     },
     "user_tz": -480
    },
    "id": "G8hc6NJu6qbk"
   },
   "outputs": [],
   "source": [
    "# Split the data into training and testing sets\n",
    "X_train, X_test, y_train, y_test = split(X, y, test_size=0.2, random_state=42)"
   ]
  },
  {
   "cell_type": "code",
   "execution_count": 59,
   "metadata": {
    "executionInfo": {
     "elapsed": 570,
     "status": "ok",
     "timestamp": 1736071378310,
     "user": {
      "displayName": "Yu Jun Kee",
      "userId": "17860971816141994389"
     },
     "user_tz": -480
    },
    "id": "9IKDKy8n6tEz"
   },
   "outputs": [],
   "source": [
    "# k-NN Regressor for StandardScaler\n",
    "print(\"\\nKNN Regression with StandardScaler:\")\n",
    "for k in range(1,11):\n",
    "  knn1 = KNeighborsRegressor(n_neighbors=k).fit(X_train_scaled, y_train)\n",
    "  print(f\"KNN k={k}:R2={knn1.score(X_test_scaled, y_test):.3f}\")\n",
    "\n",
    "# Ridge Regression with StandardScaler\n",
    "print(\"\\nRidge Regression with StandardScaler:\")\n",
    "for x in range(0, 100, 10):\n",
    "    ridge = Ridge(alpha=x).fit(X_train_scaled, y_train)\n",
    "    print(f\"Ridge alpha={x}: R2={ridge.score(X_test_scaled, y_test):.3f}\")"
   ]
  },
  {
   "cell_type": "code",
   "execution_count": 60,
   "metadata": {
    "executionInfo": {
     "elapsed": 290,
     "status": "ok",
     "timestamp": 1736071389304,
     "user": {
      "displayName": "Yu Jun Kee",
      "userId": "17860971816141994389"
     },
     "user_tz": -480
    },
    "id": "KoA_PeUd6vsm"
   },
   "outputs": [],
   "source": [
    "# Feature scaling with MinMaxScaler\n",
    "scaler = MinMaxScaler()\n",
    "X_train_scaled1 = scaler.fit_transform(X_train)\n",
    "X_test_scaled1 = scaler.transform(X_test)"
   ]
  },
  {
   "cell_type": "code",
   "execution_count": 61,
   "metadata": {
    "colab": {
     "base_uri": "https://localhost:8080/"
    },
    "executionInfo": {
     "elapsed": 292,
     "status": "ok",
     "timestamp": 1736071399718,
     "user": {
      "displayName": "Yu Jun Kee",
      "userId": "17860971816141994389"
     },
     "user_tz": -480
    },
    "id": "LY7TVe3Z6ygS",
    "outputId": "6640b77d-a63b-48c1-d87b-313ced08b977"
   },
   "outputs": [
    {
     "name": "stdout",
     "output_type": "stream",
     "text": [
      "Ridge Regression Results:\n",
      "MSE: 12.1092, R2: 0.3591\n",
      "\n",
      "K-Nearest Neighbors Results:\n",
      "MSE: 2.8344, R2: 0.8500\n"
     ]
    }
   ],
   "source": [
    "# k-NN Regressor for MinMaxScaler\n",
    "print(\"\\nKNN Regression with MinMaxScaler:\")\n",
    "for k in range(1,11):\n",
    "  knn1 = KNeighborsRegressor(n_neighbors=k).fit(X_train_scaled1, y_train)\n",
    "  print(f\"KNN k={k}:R2={knn1.score(X_test_scaled1, y_test):.3f}\")\n",
    "\n",
    "# Ridge Regression with MinMaxScaler\n",
    "print(\"\\nRidge Regression with MinMaxScaler:\")\n",
    "for x in range(0, 100, 10):\n",
    "    ridge = Ridge(alpha=x).fit(X_train_scaled1, y_train)\n",
    "    print(f\"Ridge alpha={x}: R2={ridge.score(X_test_scaled1, y_test):.3f}\")"
   ]
  },
  {
   "cell_type": "code",
   "execution_count": null,
   "metadata": {},
   "outputs": [],
   "source": [
    "# Feature scaling with RobustScaler\n",
    "scaler = RobustScaler()\n",
    "X_train_Rscaled = scaler.fit_transform(X_train)\n",
    "X_test_Rscaled = scaler.transform(X_test)\n",
    "\n",
    "# KNN Regression with RobustScaler\n",
    "print(\"\\nKNN Regression with RobustScaler:\")\n",
    "for k in range(1, 11):  # Loop over different k values\n",
    "    knn1 = KNeighborsRegressor(n_neighbors=k).fit(X_train_Rscaled, y_train)\n",
    "    r2_knn = knn1.score(X_test_Rscaled, y_test)\n",
    "    print(f\"KNN k={k}: R2={r2_knn:.3f}\")\n",
    "\n",
    "# Ridge Regression with RobustScaler\n",
    "print(\"\\nRidge Regression with RobustScaler:\")\n",
    "for x in range(0, 100, 10):  # Start from alpha=1\n",
    "    ridge1 = Ridge(alpha=x).fit(X_train_Rscaled, y_train)\n",
    "    r2_ridge = ridge1.score(X_test_Rscaled, y_test)\n",
    "    print(f\"Ridge alpha={x}: R2={r2_ridge:.3f}\")"
   ]
  },
  {
   "cell_type": "code",
   "execution_count": null,
   "metadata": {},
   "outputs": [],
   "source": [
    "# k-NN Regressor\n",
    "knn = KNeighborsRegressor(n_neighbors=5)\n",
    "knn.fit(X_train_scaled, y_train)\n",
    "y_pred_knn = knn.predict(X_test_scaled)"
   ]
  },
  {
   "cell_type": "code",
   "execution_count": null,
   "metadata": {},
   "outputs": [],
   "source": [
    "print(\"\\nk-NN Regressor:\")\n",
    "print(f\"R2 Score: {r2_score(y_test, y_pred_knn):.3f}\")"
   ]
  },
  {
   "cell_type": "code",
   "execution_count": null,
   "metadata": {},
   "outputs": [],
   "source": [
    "pca = PCA(n_components=3)\n",
    "X_train_pca = pca.fit_transform(X_train_scaled)\n",
    "X_test_pca = pca.transform(X_test_scaled)"
   ]
  },
  {
   "cell_type": "code",
   "execution_count": null,
   "metadata": {},
   "outputs": [],
   "source": [
    "# Define models\n",
    "models = {}\n",
    "models['lr'] = LinearRegression()\n",
    "models['knn'] = KNeighborsRegressor()\n",
    "models['ridge'] = Ridge()\n",
    "models['svr'] = SVR()\n",
    "models['dt'] = DecisionTreeRegressor()\n",
    "models['rf'] = RandomForestRegressor()\n",
    "models['gb'] = GradientBoostingRegressor()\n",
    "models['mlp'] = MLPRegressor()\n",
    "\n",
    "# Evaluate models with PCA and RobustScaler\n",
    "kf = KFold(n_splits=5, shuffle=True, random_state=42)\n",
    "for n in models:\n",
    "    scores = cross_val_score(models[n], X_train_pca, y, cv=kf, n_jobs=-1)\n",
    "    print(f\"{n}:  {scores.mean():.3%}, {scores.std():.3%}\")\n"
   ]
  }
 ],
 "metadata": {
  "colab": {
   "authorship_tag": "ABX9TyM8ADG5MOeizmlxnXvOjn8+",
   "provenance": []
  },
  "kernelspec": {
   "display_name": "Python 3",
   "name": "python3"
  },
  "language_info": {
   "name": "python"
  }
 },
 "nbformat": 4,
 "nbformat_minor": 0
}
