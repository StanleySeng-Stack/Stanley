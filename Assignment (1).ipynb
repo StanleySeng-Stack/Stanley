{
 "cells": [
  {
   "cell_type": "code",
   "execution_count": 31,
   "metadata": {
    "executionInfo": {
     "elapsed": 287,
     "status": "ok",
     "timestamp": 1736069743705,
     "user": {
      "displayName": "Yu Jun Kee",
      "userId": "17860971816141994389"
     },
     "user_tz": -480
    },
    "id": "Ustgz_iYbtAT"
   },
   "outputs": [],
   "source": [
    "import pandas as pd\n",
    "from sklearn.linear_model import Ridge\n",
    "from sklearn.model_selection import train_test_split as split\n",
    "from sklearn.neighbors import KNeighborsRegressor\n",
    "from sklearn.preprocessing import OneHotEncoder\n",
    "from sklearn.preprocessing import MinMaxScaler, StandardScaler, RobustScaler"
   ]
  },
  {
   "cell_type": "code",
   "execution_count": 43,
   "metadata": {
    "colab": {
     "base_uri": "https://localhost:8080/",
     "height": 342
    },
    "executionInfo": {
     "elapsed": 281,
     "status": "ok",
     "timestamp": 1736071077689,
     "user": {
      "displayName": "Yu Jun Kee",
      "userId": "17860971816141994389"
     },
     "user_tz": -480
    },
    "id": "8cBg2IS1p1Qu",
    "outputId": "e5bfee67-1f9d-4311-e2d1-8a6fe1efc14f"
   },
   "outputs": [
    {
     "data": {
      "application/vnd.google.colaboratory.intrinsic+json": {
       "type": "dataframe",
       "variable_name": "df"
      },
      "text/html": [
       "\n",
       "  <div id=\"df-7a15e2ab-d834-4a03-8aa0-25acb6579efe\" class=\"colab-df-container\">\n",
       "    <div>\n",
       "<style scoped>\n",
       "    .dataframe tbody tr th:only-of-type {\n",
       "        vertical-align: middle;\n",
       "    }\n",
       "\n",
       "    .dataframe tbody tr th {\n",
       "        vertical-align: top;\n",
       "    }\n",
       "\n",
       "    .dataframe thead th {\n",
       "        text-align: right;\n",
       "    }\n",
       "</style>\n",
       "<table border=\"1\" class=\"dataframe\">\n",
       "  <thead>\n",
       "    <tr style=\"text-align: right;\">\n",
       "      <th></th>\n",
       "      <th>country</th>\n",
       "      <th>year</th>\n",
       "      <th>iso_code</th>\n",
       "      <th>population</th>\n",
       "      <th>gdp</th>\n",
       "      <th>biofuel_cons_change_pct</th>\n",
       "      <th>biofuel_cons_change_twh</th>\n",
       "      <th>biofuel_cons_per_capita</th>\n",
       "      <th>biofuel_consumption</th>\n",
       "      <th>biofuel_elec_per_capita</th>\n",
       "      <th>...</th>\n",
       "      <th>solar_share_elec</th>\n",
       "      <th>solar_share_energy</th>\n",
       "      <th>wind_cons_change_pct</th>\n",
       "      <th>wind_cons_change_twh</th>\n",
       "      <th>wind_consumption</th>\n",
       "      <th>wind_elec_per_capita</th>\n",
       "      <th>wind_electricity</th>\n",
       "      <th>wind_energy_per_capita</th>\n",
       "      <th>wind_share_elec</th>\n",
       "      <th>wind_share_energy</th>\n",
       "    </tr>\n",
       "  </thead>\n",
       "  <tbody>\n",
       "    <tr>\n",
       "      <th>0</th>\n",
       "      <td>ASEAN (Ember)</td>\n",
       "      <td>2000</td>\n",
       "      <td>NaN</td>\n",
       "      <td>NaN</td>\n",
       "      <td>NaN</td>\n",
       "      <td>NaN</td>\n",
       "      <td>NaN</td>\n",
       "      <td>NaN</td>\n",
       "      <td>NaN</td>\n",
       "      <td>NaN</td>\n",
       "      <td>...</td>\n",
       "      <td>0.0</td>\n",
       "      <td>NaN</td>\n",
       "      <td>NaN</td>\n",
       "      <td>NaN</td>\n",
       "      <td>NaN</td>\n",
       "      <td>NaN</td>\n",
       "      <td>0.0</td>\n",
       "      <td>NaN</td>\n",
       "      <td>0.0</td>\n",
       "      <td>NaN</td>\n",
       "    </tr>\n",
       "    <tr>\n",
       "      <th>1</th>\n",
       "      <td>ASEAN (Ember)</td>\n",
       "      <td>2001</td>\n",
       "      <td>NaN</td>\n",
       "      <td>NaN</td>\n",
       "      <td>NaN</td>\n",
       "      <td>NaN</td>\n",
       "      <td>NaN</td>\n",
       "      <td>NaN</td>\n",
       "      <td>NaN</td>\n",
       "      <td>NaN</td>\n",
       "      <td>...</td>\n",
       "      <td>0.0</td>\n",
       "      <td>NaN</td>\n",
       "      <td>NaN</td>\n",
       "      <td>NaN</td>\n",
       "      <td>NaN</td>\n",
       "      <td>NaN</td>\n",
       "      <td>0.0</td>\n",
       "      <td>NaN</td>\n",
       "      <td>0.0</td>\n",
       "      <td>NaN</td>\n",
       "    </tr>\n",
       "    <tr>\n",
       "      <th>2</th>\n",
       "      <td>ASEAN (Ember)</td>\n",
       "      <td>2002</td>\n",
       "      <td>NaN</td>\n",
       "      <td>NaN</td>\n",
       "      <td>NaN</td>\n",
       "      <td>NaN</td>\n",
       "      <td>NaN</td>\n",
       "      <td>NaN</td>\n",
       "      <td>NaN</td>\n",
       "      <td>NaN</td>\n",
       "      <td>...</td>\n",
       "      <td>0.0</td>\n",
       "      <td>NaN</td>\n",
       "      <td>NaN</td>\n",
       "      <td>NaN</td>\n",
       "      <td>NaN</td>\n",
       "      <td>NaN</td>\n",
       "      <td>0.0</td>\n",
       "      <td>NaN</td>\n",
       "      <td>0.0</td>\n",
       "      <td>NaN</td>\n",
       "    </tr>\n",
       "    <tr>\n",
       "      <th>3</th>\n",
       "      <td>ASEAN (Ember)</td>\n",
       "      <td>2003</td>\n",
       "      <td>NaN</td>\n",
       "      <td>NaN</td>\n",
       "      <td>NaN</td>\n",
       "      <td>NaN</td>\n",
       "      <td>NaN</td>\n",
       "      <td>NaN</td>\n",
       "      <td>NaN</td>\n",
       "      <td>NaN</td>\n",
       "      <td>...</td>\n",
       "      <td>0.0</td>\n",
       "      <td>NaN</td>\n",
       "      <td>NaN</td>\n",
       "      <td>NaN</td>\n",
       "      <td>NaN</td>\n",
       "      <td>NaN</td>\n",
       "      <td>0.0</td>\n",
       "      <td>NaN</td>\n",
       "      <td>0.0</td>\n",
       "      <td>NaN</td>\n",
       "    </tr>\n",
       "    <tr>\n",
       "      <th>4</th>\n",
       "      <td>ASEAN (Ember)</td>\n",
       "      <td>2004</td>\n",
       "      <td>NaN</td>\n",
       "      <td>NaN</td>\n",
       "      <td>NaN</td>\n",
       "      <td>NaN</td>\n",
       "      <td>NaN</td>\n",
       "      <td>NaN</td>\n",
       "      <td>NaN</td>\n",
       "      <td>NaN</td>\n",
       "      <td>...</td>\n",
       "      <td>0.0</td>\n",
       "      <td>NaN</td>\n",
       "      <td>NaN</td>\n",
       "      <td>NaN</td>\n",
       "      <td>NaN</td>\n",
       "      <td>NaN</td>\n",
       "      <td>0.0</td>\n",
       "      <td>NaN</td>\n",
       "      <td>0.0</td>\n",
       "      <td>NaN</td>\n",
       "    </tr>\n",
       "  </tbody>\n",
       "</table>\n",
       "<p>5 rows × 129 columns</p>\n",
       "</div>\n",
       "    <div class=\"colab-df-buttons\">\n",
       "\n",
       "  <div class=\"colab-df-container\">\n",
       "    <button class=\"colab-df-convert\" onclick=\"convertToInteractive('df-7a15e2ab-d834-4a03-8aa0-25acb6579efe')\"\n",
       "            title=\"Convert this dataframe to an interactive table.\"\n",
       "            style=\"display:none;\">\n",
       "\n",
       "  <svg xmlns=\"http://www.w3.org/2000/svg\" height=\"24px\" viewBox=\"0 -960 960 960\">\n",
       "    <path d=\"M120-120v-720h720v720H120Zm60-500h600v-160H180v160Zm220 220h160v-160H400v160Zm0 220h160v-160H400v160ZM180-400h160v-160H180v160Zm440 0h160v-160H620v160ZM180-180h160v-160H180v160Zm440 0h160v-160H620v160Z\"/>\n",
       "  </svg>\n",
       "    </button>\n",
       "\n",
       "  <style>\n",
       "    .colab-df-container {\n",
       "      display:flex;\n",
       "      gap: 12px;\n",
       "    }\n",
       "\n",
       "    .colab-df-convert {\n",
       "      background-color: #E8F0FE;\n",
       "      border: none;\n",
       "      border-radius: 50%;\n",
       "      cursor: pointer;\n",
       "      display: none;\n",
       "      fill: #1967D2;\n",
       "      height: 32px;\n",
       "      padding: 0 0 0 0;\n",
       "      width: 32px;\n",
       "    }\n",
       "\n",
       "    .colab-df-convert:hover {\n",
       "      background-color: #E2EBFA;\n",
       "      box-shadow: 0px 1px 2px rgba(60, 64, 67, 0.3), 0px 1px 3px 1px rgba(60, 64, 67, 0.15);\n",
       "      fill: #174EA6;\n",
       "    }\n",
       "\n",
       "    .colab-df-buttons div {\n",
       "      margin-bottom: 4px;\n",
       "    }\n",
       "\n",
       "    [theme=dark] .colab-df-convert {\n",
       "      background-color: #3B4455;\n",
       "      fill: #D2E3FC;\n",
       "    }\n",
       "\n",
       "    [theme=dark] .colab-df-convert:hover {\n",
       "      background-color: #434B5C;\n",
       "      box-shadow: 0px 1px 3px 1px rgba(0, 0, 0, 0.15);\n",
       "      filter: drop-shadow(0px 1px 2px rgba(0, 0, 0, 0.3));\n",
       "      fill: #FFFFFF;\n",
       "    }\n",
       "  </style>\n",
       "\n",
       "    <script>\n",
       "      const buttonEl =\n",
       "        document.querySelector('#df-7a15e2ab-d834-4a03-8aa0-25acb6579efe button.colab-df-convert');\n",
       "      buttonEl.style.display =\n",
       "        google.colab.kernel.accessAllowed ? 'block' : 'none';\n",
       "\n",
       "      async function convertToInteractive(key) {\n",
       "        const element = document.querySelector('#df-7a15e2ab-d834-4a03-8aa0-25acb6579efe');\n",
       "        const dataTable =\n",
       "          await google.colab.kernel.invokeFunction('convertToInteractive',\n",
       "                                                    [key], {});\n",
       "        if (!dataTable) return;\n",
       "\n",
       "        const docLinkHtml = 'Like what you see? Visit the ' +\n",
       "          '<a target=\"_blank\" href=https://colab.research.google.com/notebooks/data_table.ipynb>data table notebook</a>'\n",
       "          + ' to learn more about interactive tables.';\n",
       "        element.innerHTML = '';\n",
       "        dataTable['output_type'] = 'display_data';\n",
       "        await google.colab.output.renderOutput(dataTable, element);\n",
       "        const docLink = document.createElement('div');\n",
       "        docLink.innerHTML = docLinkHtml;\n",
       "        element.appendChild(docLink);\n",
       "      }\n",
       "    </script>\n",
       "  </div>\n",
       "\n",
       "\n",
       "<div id=\"df-a7376dc8-bcee-4bfb-9493-b751430e653c\">\n",
       "  <button class=\"colab-df-quickchart\" onclick=\"quickchart('df-a7376dc8-bcee-4bfb-9493-b751430e653c')\"\n",
       "            title=\"Suggest charts\"\n",
       "            style=\"display:none;\">\n",
       "\n",
       "<svg xmlns=\"http://www.w3.org/2000/svg\" height=\"24px\"viewBox=\"0 0 24 24\"\n",
       "     width=\"24px\">\n",
       "    <g>\n",
       "        <path d=\"M19 3H5c-1.1 0-2 .9-2 2v14c0 1.1.9 2 2 2h14c1.1 0 2-.9 2-2V5c0-1.1-.9-2-2-2zM9 17H7v-7h2v7zm4 0h-2V7h2v10zm4 0h-2v-4h2v4z\"/>\n",
       "    </g>\n",
       "</svg>\n",
       "  </button>\n",
       "\n",
       "<style>\n",
       "  .colab-df-quickchart {\n",
       "      --bg-color: #E8F0FE;\n",
       "      --fill-color: #1967D2;\n",
       "      --hover-bg-color: #E2EBFA;\n",
       "      --hover-fill-color: #174EA6;\n",
       "      --disabled-fill-color: #AAA;\n",
       "      --disabled-bg-color: #DDD;\n",
       "  }\n",
       "\n",
       "  [theme=dark] .colab-df-quickchart {\n",
       "      --bg-color: #3B4455;\n",
       "      --fill-color: #D2E3FC;\n",
       "      --hover-bg-color: #434B5C;\n",
       "      --hover-fill-color: #FFFFFF;\n",
       "      --disabled-bg-color: #3B4455;\n",
       "      --disabled-fill-color: #666;\n",
       "  }\n",
       "\n",
       "  .colab-df-quickchart {\n",
       "    background-color: var(--bg-color);\n",
       "    border: none;\n",
       "    border-radius: 50%;\n",
       "    cursor: pointer;\n",
       "    display: none;\n",
       "    fill: var(--fill-color);\n",
       "    height: 32px;\n",
       "    padding: 0;\n",
       "    width: 32px;\n",
       "  }\n",
       "\n",
       "  .colab-df-quickchart:hover {\n",
       "    background-color: var(--hover-bg-color);\n",
       "    box-shadow: 0 1px 2px rgba(60, 64, 67, 0.3), 0 1px 3px 1px rgba(60, 64, 67, 0.15);\n",
       "    fill: var(--button-hover-fill-color);\n",
       "  }\n",
       "\n",
       "  .colab-df-quickchart-complete:disabled,\n",
       "  .colab-df-quickchart-complete:disabled:hover {\n",
       "    background-color: var(--disabled-bg-color);\n",
       "    fill: var(--disabled-fill-color);\n",
       "    box-shadow: none;\n",
       "  }\n",
       "\n",
       "  .colab-df-spinner {\n",
       "    border: 2px solid var(--fill-color);\n",
       "    border-color: transparent;\n",
       "    border-bottom-color: var(--fill-color);\n",
       "    animation:\n",
       "      spin 1s steps(1) infinite;\n",
       "  }\n",
       "\n",
       "  @keyframes spin {\n",
       "    0% {\n",
       "      border-color: transparent;\n",
       "      border-bottom-color: var(--fill-color);\n",
       "      border-left-color: var(--fill-color);\n",
       "    }\n",
       "    20% {\n",
       "      border-color: transparent;\n",
       "      border-left-color: var(--fill-color);\n",
       "      border-top-color: var(--fill-color);\n",
       "    }\n",
       "    30% {\n",
       "      border-color: transparent;\n",
       "      border-left-color: var(--fill-color);\n",
       "      border-top-color: var(--fill-color);\n",
       "      border-right-color: var(--fill-color);\n",
       "    }\n",
       "    40% {\n",
       "      border-color: transparent;\n",
       "      border-right-color: var(--fill-color);\n",
       "      border-top-color: var(--fill-color);\n",
       "    }\n",
       "    60% {\n",
       "      border-color: transparent;\n",
       "      border-right-color: var(--fill-color);\n",
       "    }\n",
       "    80% {\n",
       "      border-color: transparent;\n",
       "      border-right-color: var(--fill-color);\n",
       "      border-bottom-color: var(--fill-color);\n",
       "    }\n",
       "    90% {\n",
       "      border-color: transparent;\n",
       "      border-bottom-color: var(--fill-color);\n",
       "    }\n",
       "  }\n",
       "</style>\n",
       "\n",
       "  <script>\n",
       "    async function quickchart(key) {\n",
       "      const quickchartButtonEl =\n",
       "        document.querySelector('#' + key + ' button');\n",
       "      quickchartButtonEl.disabled = true;  // To prevent multiple clicks.\n",
       "      quickchartButtonEl.classList.add('colab-df-spinner');\n",
       "      try {\n",
       "        const charts = await google.colab.kernel.invokeFunction(\n",
       "            'suggestCharts', [key], {});\n",
       "      } catch (error) {\n",
       "        console.error('Error during call to suggestCharts:', error);\n",
       "      }\n",
       "      quickchartButtonEl.classList.remove('colab-df-spinner');\n",
       "      quickchartButtonEl.classList.add('colab-df-quickchart-complete');\n",
       "    }\n",
       "    (() => {\n",
       "      let quickchartButtonEl =\n",
       "        document.querySelector('#df-a7376dc8-bcee-4bfb-9493-b751430e653c button');\n",
       "      quickchartButtonEl.style.display =\n",
       "        google.colab.kernel.accessAllowed ? 'block' : 'none';\n",
       "    })();\n",
       "  </script>\n",
       "</div>\n",
       "\n",
       "    </div>\n",
       "  </div>\n"
      ],
      "text/plain": [
       "         country  year iso_code  population  gdp  biofuel_cons_change_pct  \\\n",
       "0  ASEAN (Ember)  2000      NaN         NaN  NaN                      NaN   \n",
       "1  ASEAN (Ember)  2001      NaN         NaN  NaN                      NaN   \n",
       "2  ASEAN (Ember)  2002      NaN         NaN  NaN                      NaN   \n",
       "3  ASEAN (Ember)  2003      NaN         NaN  NaN                      NaN   \n",
       "4  ASEAN (Ember)  2004      NaN         NaN  NaN                      NaN   \n",
       "\n",
       "   biofuel_cons_change_twh  biofuel_cons_per_capita  biofuel_consumption  \\\n",
       "0                      NaN                      NaN                  NaN   \n",
       "1                      NaN                      NaN                  NaN   \n",
       "2                      NaN                      NaN                  NaN   \n",
       "3                      NaN                      NaN                  NaN   \n",
       "4                      NaN                      NaN                  NaN   \n",
       "\n",
       "   biofuel_elec_per_capita  ...  solar_share_elec  solar_share_energy  \\\n",
       "0                      NaN  ...               0.0                 NaN   \n",
       "1                      NaN  ...               0.0                 NaN   \n",
       "2                      NaN  ...               0.0                 NaN   \n",
       "3                      NaN  ...               0.0                 NaN   \n",
       "4                      NaN  ...               0.0                 NaN   \n",
       "\n",
       "   wind_cons_change_pct  wind_cons_change_twh  wind_consumption  \\\n",
       "0                   NaN                   NaN               NaN   \n",
       "1                   NaN                   NaN               NaN   \n",
       "2                   NaN                   NaN               NaN   \n",
       "3                   NaN                   NaN               NaN   \n",
       "4                   NaN                   NaN               NaN   \n",
       "\n",
       "   wind_elec_per_capita  wind_electricity  wind_energy_per_capita  \\\n",
       "0                   NaN               0.0                     NaN   \n",
       "1                   NaN               0.0                     NaN   \n",
       "2                   NaN               0.0                     NaN   \n",
       "3                   NaN               0.0                     NaN   \n",
       "4                   NaN               0.0                     NaN   \n",
       "\n",
       "   wind_share_elec  wind_share_energy  \n",
       "0              0.0                NaN  \n",
       "1              0.0                NaN  \n",
       "2              0.0                NaN  \n",
       "3              0.0                NaN  \n",
       "4              0.0                NaN  \n",
       "\n",
       "[5 rows x 129 columns]"
      ]
     },
     "execution_count": 43,
     "metadata": {},
     "output_type": "execute_result"
    }
   ],
   "source": [
    "df = pd.read_csv('Assignment Datasheet.csv')\n",
    "df.head()\n"
   ]
  },
  {
   "cell_type": "code",
   "execution_count": 44,
   "metadata": {
    "executionInfo": {
     "elapsed": 311,
     "status": "ok",
     "timestamp": 1736071144834,
     "user": {
      "displayName": "Yu Jun Kee",
      "userId": "17860971816141994389"
     },
     "user_tz": -480
    },
    "id": "bLQPfnQmtyXh"
   },
   "outputs": [],
   "source": [
    "# Step 1: Handle missing data and define feature/target columns\n",
    "categorical_features = ['country']\n",
    "numerical_features = ['population', 'gdp', 'biofuel_consumption', 'wind_consumption']"
   ]
  },
  {
   "cell_type": "code",
   "execution_count": 45,
   "metadata": {
    "executionInfo": {
     "elapsed": 285,
     "status": "ok",
     "timestamp": 1736071159945,
     "user": {
      "displayName": "Yu Jun Kee",
      "userId": "17860971816141994389"
     },
     "user_tz": -480
    },
    "id": "K-iXJ41ft1O8"
   },
   "outputs": [],
   "source": [
    "# Target column\n",
    "target_column = 'wind_share_elec'"
   ]
  },
  {
   "cell_type": "code",
   "execution_count": 46,
   "metadata": {
    "executionInfo": {
     "elapsed": 3,
     "status": "ok",
     "timestamp": 1736071173195,
     "user": {
      "displayName": "Yu Jun Kee",
      "userId": "17860971816141994389"
     },
     "user_tz": -480
    },
    "id": "agsDoR7Dt34f"
   },
   "outputs": [],
   "source": [
    "# Filter rows with missing target values\n",
    "df = df[df[target_column].notnull()]\n"
   ]
  },
  {
   "cell_type": "code",
   "execution_count": 47,
   "metadata": {
    "executionInfo": {
     "elapsed": 289,
     "status": "ok",
     "timestamp": 1736071183991,
     "user": {
      "displayName": "Yu Jun Kee",
      "userId": "17860971816141994389"
     },
     "user_tz": -480
    },
    "id": "n-Fz7ZB7t6MB"
   },
   "outputs": [],
   "source": [
    "# Separate features and target variable\n",
    "X = df[categorical_features + numerical_features]\n",
    "y = df[target_column]\n"
   ]
  },
  {
   "cell_type": "code",
   "execution_count": 49,
   "metadata": {
    "executionInfo": {
     "elapsed": 496,
     "status": "ok",
     "timestamp": 1736071239546,
     "user": {
      "displayName": "Yu Jun Kee",
      "userId": "17860971816141994389"
     },
     "user_tz": -480
    },
    "id": "PwW3Tl_S6DMe"
   },
   "outputs": [],
   "source": [
    "# Step 2: Preprocessing pipeline\n",
    "# Impute missing values and scale numerical features\n",
    "# Import Pipeline and SimpleImputer\n",
    "from sklearn.pipeline import Pipeline\n",
    "from sklearn.impute import SimpleImputer\n",
    "\n",
    "numerical_transformer = Pipeline(steps=[\n",
    "    ('imputer', SimpleImputer(strategy='median')),\n",
    "    ('scaler', MinMaxScaler())\n",
    "])"
   ]
  },
  {
   "cell_type": "code",
   "execution_count": 50,
   "metadata": {
    "executionInfo": {
     "elapsed": 290,
     "status": "ok",
     "timestamp": 1736071253132,
     "user": {
      "displayName": "Yu Jun Kee",
      "userId": "17860971816141994389"
     },
     "user_tz": -480
    },
    "id": "ZQhOmAK_6OKI"
   },
   "outputs": [],
   "source": [
    "# One-hot encode categorical features\n",
    "categorical_transformer = Pipeline(steps=[\n",
    "    ('imputer', SimpleImputer(strategy='most_frequent')),\n",
    "    ('onehot', OneHotEncoder(handle_unknown='ignore'))\n",
    "])\n"
   ]
  },
  {
   "cell_type": "code",
   "execution_count": 52,
   "metadata": {
    "executionInfo": {
     "elapsed": 267,
     "status": "ok",
     "timestamp": 1736071290642,
     "user": {
      "displayName": "Yu Jun Kee",
      "userId": "17860971816141994389"
     },
     "user_tz": -480
    },
    "id": "MHbYtihu6RSa"
   },
   "outputs": [],
   "source": [
    "# Combine preprocessing steps\n",
    "# Import ColumnTransformer\n",
    "from sklearn.compose import ColumnTransformer\n",
    "\n",
    "preprocessor = ColumnTransformer(\n",
    "    transformers=[\n",
    "        ('num', numerical_transformer, numerical_features),\n",
    "        ('cat', categorical_transformer, categorical_features)\n",
    "    ]\n",
    ")"
   ]
  },
  {
   "cell_type": "code",
   "execution_count": 53,
   "metadata": {
    "executionInfo": {
     "elapsed": 287,
     "status": "ok",
     "timestamp": 1736071302246,
     "user": {
      "displayName": "Yu Jun Kee",
      "userId": "17860971816141994389"
     },
     "user_tz": -480
    },
    "id": "4kjxLTUk6aZO"
   },
   "outputs": [],
   "source": [
    "# Step 3: Train-test split\n",
    "X_train, X_test, y_train, y_test = train_test_split(X, y, test_size=0.2, random_state=42)\n"
   ]
  },
  {
   "cell_type": "code",
   "execution_count": 54,
   "metadata": {
    "executionInfo": {
     "elapsed": 313,
     "status": "ok",
     "timestamp": 1736071313661,
     "user": {
      "displayName": "Yu Jun Kee",
      "userId": "17860971816141994389"
     },
     "user_tz": -480
    },
    "id": "rz3ZnV206dNF"
   },
   "outputs": [],
   "source": [
    "# Step 4: Modeling\n",
    "# Ridge Regression pipeline\n",
    "ridge_pipeline = Pipeline(steps=[\n",
    "    ('preprocessor', preprocessor),\n",
    "    ('regressor', Ridge(alpha=1.0))\n",
    "])"
   ]
  },
  {
   "cell_type": "code",
   "execution_count": 55,
   "metadata": {
    "executionInfo": {
     "elapsed": 3,
     "status": "ok",
     "timestamp": 1736071323845,
     "user": {
      "displayName": "Yu Jun Kee",
      "userId": "17860971816141994389"
     },
     "user_tz": -480
    },
    "id": "_veUDoai6gH7"
   },
   "outputs": [],
   "source": [
    "# Train Ridge model\n",
    "ridge_pipeline.fit(X_train, y_train)\n",
    "y_pred_ridge = ridge_pipeline.predict(X_test)\n"
   ]
  },
  {
   "cell_type": "code",
   "execution_count": 57,
   "metadata": {
    "executionInfo": {
     "elapsed": 285,
     "status": "ok",
     "timestamp": 1736071356777,
     "user": {
      "displayName": "Yu Jun Kee",
      "userId": "17860971816141994389"
     },
     "user_tz": -480
    },
    "id": "KsKGSize6iTH"
   },
   "outputs": [],
   "source": [
    "# Evaluate Ridge model\n",
    "from sklearn.metrics import mean_squared_error, r2_score # Import necessary functions\n",
    "\n",
    "ridge_mse = mean_squared_error(y_test, y_pred_ridge)\n",
    "ridge_r2 = r2_score(y_test, y_pred_ridge)"
   ]
  },
  {
   "cell_type": "code",
   "execution_count": 58,
   "metadata": {
    "executionInfo": {
     "elapsed": 271,
     "status": "ok",
     "timestamp": 1736071367886,
     "user": {
      "displayName": "Yu Jun Kee",
      "userId": "17860971816141994389"
     },
     "user_tz": -480
    },
    "id": "G8hc6NJu6qbk"
   },
   "outputs": [],
   "source": [
    "# K-Nearest Neighbors pipeline\n",
    "knn_pipeline = Pipeline(steps=[\n",
    "    ('preprocessor', preprocessor),\n",
    "    ('regressor', KNeighborsRegressor(n_neighbors=5))\n",
    "])\n"
   ]
  },
  {
   "cell_type": "code",
   "execution_count": 59,
   "metadata": {
    "executionInfo": {
     "elapsed": 570,
     "status": "ok",
     "timestamp": 1736071378310,
     "user": {
      "displayName": "Yu Jun Kee",
      "userId": "17860971816141994389"
     },
     "user_tz": -480
    },
    "id": "9IKDKy8n6tEz"
   },
   "outputs": [],
   "source": [
    "# Train KNN model\n",
    "knn_pipeline.fit(X_train, y_train)\n",
    "y_pred_knn = knn_pipeline.predict(X_test)\n"
   ]
  },
  {
   "cell_type": "code",
   "execution_count": 60,
   "metadata": {
    "executionInfo": {
     "elapsed": 290,
     "status": "ok",
     "timestamp": 1736071389304,
     "user": {
      "displayName": "Yu Jun Kee",
      "userId": "17860971816141994389"
     },
     "user_tz": -480
    },
    "id": "KoA_PeUd6vsm"
   },
   "outputs": [],
   "source": [
    "# Evaluate KNN model\n",
    "knn_mse = mean_squared_error(y_test, y_pred_knn)\n",
    "knn_r2 = r2_score(y_test, y_pred_knn)\n"
   ]
  },
  {
   "cell_type": "code",
   "execution_count": 61,
   "metadata": {
    "colab": {
     "base_uri": "https://localhost:8080/"
    },
    "executionInfo": {
     "elapsed": 292,
     "status": "ok",
     "timestamp": 1736071399718,
     "user": {
      "displayName": "Yu Jun Kee",
      "userId": "17860971816141994389"
     },
     "user_tz": -480
    },
    "id": "LY7TVe3Z6ygS",
    "outputId": "6640b77d-a63b-48c1-d87b-313ced08b977"
   },
   "outputs": [
    {
     "name": "stdout",
     "output_type": "stream",
     "text": [
      "Ridge Regression Results:\n",
      "MSE: 12.1092, R2: 0.3591\n",
      "\n",
      "K-Nearest Neighbors Results:\n",
      "MSE: 2.8344, R2: 0.8500\n"
     ]
    }
   ],
   "source": [
    "# Print results\n",
    "print(\"Ridge Regression Results:\")\n",
    "print(f\"MSE: {ridge_mse:.4f}, R2: {ridge_r2:.4f}\")\n",
    "\n",
    "print(\"\\nK-Nearest Neighbors Results:\")\n",
    "print(f\"MSE: {knn_mse:.4f}, R2: {knn_r2:.4f}\")\n"
   ]
  }
 ],
 "metadata": {
  "colab": {
   "authorship_tag": "ABX9TyM8ADG5MOeizmlxnXvOjn8+",
   "provenance": []
  },
  "kernelspec": {
   "display_name": "Python 3",
   "name": "python3"
  },
  "language_info": {
   "name": "python"
  }
 },
 "nbformat": 4,
 "nbformat_minor": 0
}
